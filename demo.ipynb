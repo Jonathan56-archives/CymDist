{
 "cells": [
  {
   "cell_type": "code",
   "execution_count": 1,
   "metadata": {
    "collapsed": false
   },
   "outputs": [],
   "source": [
    "from __future__ import division\n",
    "import cympy\n",
    "import cympy.rm\n",
    "import pandas\n",
    "import sys\n",
    "sys.path.append(\"D:\\\\Users\\\\Jonathan\\\\Documents\\\\GitHub\\\\cymdist\")\n",
    "import function\n",
    "import lookup"
   ]
  },
  {
   "cell_type": "code",
   "execution_count": 2,
   "metadata": {
    "collapsed": false
   },
   "outputs": [],
   "source": [
    "# FMU initialize\n",
    "# Shunt capacitor control\n",
    "voltage_control = False\n",
    "\n",
    "# Adding PV on the network\n",
    "added_PV = False \n",
    "\n",
    "# Open a study\n",
    "filename = 'C:\\\\Users\\\\emma\\\\Documents\\\\SCE Cymdist\\\\PIANO_20140718.sxst'\n",
    "cympy.study.Open(filename)\n",
    "\n",
    "# Set the grid model with the modification\n",
    "if voltage_control:\n",
    "    pass\n",
    "\n",
    "if added_PV:\n",
    "    pass\n",
    "\n",
    "# FMU do step\n",
    "# Retrieve microPMU data at t\n",
    "udata = {'VMAG_A': 7287.4208984375,\n",
    "         'VMAG_B': 7299.921875,\n",
    "         'VMAG_C': 7318.2822265625,\n",
    "         'P_A': 7272.5364248477308,\n",
    "         'P_B': 2118.3817519608633,\n",
    "         'P_C': 6719.1867010705246,\n",
    "         'Q_A': -284.19075651498088,\n",
    "         'Q_B': -7184.1189935099919,\n",
    "         'Q_C': 3564.4269660296022,\n",
    "         'units': ('kW', 'kVAR', 'V')}\n",
    "\n",
    "# Set the downstream load and voltage and launch load allocation\n",
    "function.load_allocation(udata)\n",
    "\n",
    "# Run a power flow\n",
    "lf = cympy.sim.LoadFlow()\n",
    "lf.Run()\n",
    "\n",
    "# Get the results"
   ]
  }
 ],
 "metadata": {
  "kernelspec": {
   "display_name": "Python [Root]",
   "language": "python",
   "name": "Python [Root]"
  },
  "language_info": {
   "codemirror_mode": {
    "name": "ipython",
    "version": 2
   },
   "file_extension": ".py",
   "mimetype": "text/x-python",
   "name": "python",
   "nbconvert_exporter": "python",
   "pygments_lexer": "ipython2",
   "version": "2.7.12"
  }
 },
 "nbformat": 4,
 "nbformat_minor": 1
}
