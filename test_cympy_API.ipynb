{
 "cells": [
  {
   "cell_type": "code",
   "execution_count": 5,
   "metadata": {
    "collapsed": false
   },
   "outputs": [],
   "source": [
    "from __future__ import division\n",
    "import cympy\n",
    "import cympy.rm\n",
    "import pandas\n",
    "import sys\n",
    "sys.path.append(\"D:\\\\Users\\\\Jonathan\\\\Documents\\\\GitHub\\\\cymdist\")\n",
    "import function\n",
    "import lookup\n",
    "from datetime import datetime\n",
    "from pytz import timezone\n",
    "from IPython.display import clear_output\n",
    "pacific = timezone('US/Pacific')\n",
    "\n",
    "# Open a study\n",
    "filename = 'C:\\\\Users\\\\emma\\\\Dropbox\\\\PG&E Models - DO NOT SHARE\\\\HL0004\\\\HL0004.sxst'\n",
    "cympy.study.Open(filename)\n",
    "\n",
    "# Retrieve microPMU data at t\n",
    "udata = {'VMAG_A': 7287.4208984375,\n",
    "         'VMAG_B': 7299.921875,\n",
    "         'VMAG_C': 7318.2822265625,\n",
    "         'P_A': 7272.5364248477308,\n",
    "         'P_B': 2118.3817519608633,\n",
    "         'P_C': 6719.1867010705246,\n",
    "         'Q_A': -284.19075651498088,\n",
    "         'Q_B': -7184.1189935099919,\n",
    "         'Q_C': 3564.4269660296022,\n",
    "         'units': ('kW', 'kVAR', 'V')}\n",
    "\n",
    "# Set the downstream load and voltage and launch load allocation\n",
    "function.load_allocation(udata)\n",
    "\n",
    "# Run a power flow\n",
    "lf = cympy.sim.LoadFlow()\n",
    "lf.Run()\n",
    "\n",
    "devices = function.list_devices()"
   ]
  },
  {
   "cell_type": "code",
   "execution_count": 6,
   "metadata": {
    "collapsed": false
   },
   "outputs": [],
   "source": [
    "# Retrieve microPMU data at t\n",
    "date = datetime(2016, 8, 25, 12, 0, 0)\n",
    "inputdt = pacific.localize(date)\n",
    "upmu_path = '/LBNL/grizzly_bus1/'\n",
    "udata = function.get_upmu_data(inputdt, upmu_path)"
   ]
  },
  {
   "cell_type": "code",
   "execution_count": 7,
   "metadata": {
    "collapsed": false
   },
   "outputs": [
    {
     "data": {
      "text/plain": [
       "{'P_A': 6689.2364959420211,\n",
       " 'P_B': 4012.0067952961745,\n",
       " 'P_C': 4099.1496491198595,\n",
       " 'Q_A': -136.19652573109505,\n",
       " 'Q_B': -5614.7491219900749,\n",
       " 'Q_C': 5644.9131248377944,\n",
       " 'VMAG_A': 7296.68701171875,\n",
       " 'VMAG_B': 7300.40869140625,\n",
       " 'VMAG_C': 7324.513671875,\n",
       " 'units': ('kW', 'kVAR', 'V')}"
      ]
     },
     "execution_count": 7,
     "metadata": {},
     "output_type": "execute_result"
    }
   ],
   "source": [
    "udata"
   ]
  },
  {
   "cell_type": "code",
   "execution_count": 8,
   "metadata": {
    "collapsed": false
   },
   "outputs": [
    {
     "ename": "CymError",
     "evalue": "Cannot find network 'NETWORK'.",
     "output_type": "error",
     "traceback": [
      "\u001b[0;31m---------------------------------------------------------------------------\u001b[0m",
      "\u001b[0;31mCymError\u001b[0m                                  Traceback (most recent call last)",
      "\u001b[0;32m<ipython-input-8-093a8b850152>\u001b[0m in \u001b[0;36m<module>\u001b[0;34m()\u001b[0m\n\u001b[1;32m      1\u001b[0m cympy.study.SetValueTopo(udata['VMAG_A'] / 1000,\n\u001b[0;32m----> 2\u001b[0;31m         \"Sources[0].EquivalentSourceModels[0].EquivalentSource.OperatingVoltage1\", \"NETWORK\")\n\u001b[0m",
      "\u001b[0;32mC:\\Program Files (x86)\\CYME\\cympy\\study.py\u001b[0m in \u001b[0;36mSetValueTopo\u001b[0;34m(*args)\u001b[0m\n\u001b[1;32m    791\u001b[0m     \u001b[0mSetValueTopo\u001b[0m\u001b[1;33m(\u001b[0m\u001b[0mbool\u001b[0m \u001b[0mValue\u001b[0m\u001b[1;33m,\u001b[0m \u001b[0mCYMString\u001b[0m \u001b[0mPropertyID\u001b[0m\u001b[1;33m,\u001b[0m \u001b[0mCYMString\u001b[0m \u001b[0mNetworkID\u001b[0m\u001b[1;33m)\u001b[0m\u001b[1;33m\u001b[0m\u001b[0m\n\u001b[1;32m    792\u001b[0m     \"\"\"\n\u001b[0;32m--> 793\u001b[0;31m   \u001b[1;32mreturn\u001b[0m \u001b[0m_study\u001b[0m\u001b[1;33m.\u001b[0m\u001b[0mSetValueTopo\u001b[0m\u001b[1;33m(\u001b[0m\u001b[1;33m*\u001b[0m\u001b[0margs\u001b[0m\u001b[1;33m)\u001b[0m\u001b[1;33m\u001b[0m\u001b[0m\n\u001b[0m\u001b[1;32m    794\u001b[0m \u001b[1;33m\u001b[0m\u001b[0m\n\u001b[1;32m    795\u001b[0m \u001b[1;32mdef\u001b[0m \u001b[0mDisplayBestFit\u001b[0m\u001b[1;33m(\u001b[0m\u001b[1;33m)\u001b[0m \u001b[1;33m->\u001b[0m \u001b[1;34m\"void\"\u001b[0m \u001b[1;33m:\u001b[0m\u001b[1;33m\u001b[0m\u001b[0m\n",
      "\u001b[0;31mCymError\u001b[0m: Cannot find network 'NETWORK'."
     ]
    }
   ],
   "source": [
    "cympy.study.SetValueTopo(udata['VMAG_A'] / 1000,\n",
    "        \"Sources[0].EquivalentSourceModels[0].EquivalentSource.OperatingVoltage1\", \"NETWORK\")"
   ]
  },
  {
   "cell_type": "code",
   "execution_count": 5,
   "metadata": {
    "collapsed": false
   },
   "outputs": [
    {
     "data": {
      "text/plain": [
       "'23398.0'"
      ]
     },
     "execution_count": 5,
     "metadata": {},
     "output_type": "execute_result"
    }
   ],
   "source": [
    "# Add the distance\n",
    "cympy.study.QueryInfoDevice(\"Distance\", devices.ix[50].device_number, int(devices.ix[50].device_type_id))"
   ]
  },
  {
   "cell_type": "code",
   "execution_count": 6,
   "metadata": {
    "collapsed": false
   },
   "outputs": [
    {
     "data": {
      "text/plain": [
       "3517"
      ]
     },
     "execution_count": 6,
     "metadata": {},
     "output_type": "execute_result"
    }
   ],
   "source": [
    "len(devices)"
   ]
  },
  {
   "cell_type": "code",
   "execution_count": 2,
   "metadata": {
    "collapsed": false
   },
   "outputs": [],
   "source": [
    "voltage = function.get_voltage(devices)"
   ]
  },
  {
   "cell_type": "code",
   "execution_count": 4,
   "metadata": {
    "collapsed": false,
    "scrolled": true
   },
   "outputs": [],
   "source": [
    "high_voltage = function.get_high_voltage(devices)"
   ]
  },
  {
   "cell_type": "code",
   "execution_count": 5,
   "metadata": {
    "collapsed": true
   },
   "outputs": [],
   "source": [
    "low_voltage = function.get_low_voltage(devices)"
   ]
  },
  {
   "cell_type": "code",
   "execution_count": 6,
   "metadata": {
    "collapsed": true
   },
   "outputs": [],
   "source": [
    "overload = function.get_overload(devices)"
   ]
  },
  {
   "cell_type": "code",
   "execution_count": 8,
   "metadata": {
    "collapsed": true
   },
   "outputs": [],
   "source": [
    "load = function.get_load(devices)"
   ]
  },
  {
   "cell_type": "code",
   "execution_count": 2,
   "metadata": {
    "collapsed": false
   },
   "outputs": [],
   "source": [
    "unbalanced = function.get_unbalanced_line(devices)"
   ]
  },
  {
   "cell_type": "code",
   "execution_count": 3,
   "metadata": {
    "collapsed": false
   },
   "outputs": [
    {
     "data": {
      "text/html": [
       "<div>\n",
       "<table border=\"1\" class=\"dataframe\">\n",
       "  <thead>\n",
       "    <tr style=\"text-align: right;\">\n",
       "      <th></th>\n",
       "      <th>device</th>\n",
       "      <th>device_type_id</th>\n",
       "      <th>device_number</th>\n",
       "      <th>device_type</th>\n",
       "      <th>voltage_A</th>\n",
       "      <th>voltage_B</th>\n",
       "      <th>voltage_C</th>\n",
       "      <th>mean_voltage_ABC</th>\n",
       "      <th>diff_with_mean</th>\n",
       "    </tr>\n",
       "  </thead>\n",
       "  <tbody>\n",
       "    <tr>\n",
       "      <th>477</th>\n",
       "      <td>(DeviceNumber: 'P5335190$PME3759-2', DeviceTyp...</td>\n",
       "      <td>10</td>\n",
       "      <td>P5335190$PME3759-2</td>\n",
       "      <td>Underground type.</td>\n",
       "      <td>0.879</td>\n",
       "      <td>1.203</td>\n",
       "      <td>0.962</td>\n",
       "      <td>1.014667</td>\n",
       "      <td>18.561104</td>\n",
       "    </tr>\n",
       "    <tr>\n",
       "      <th>615</th>\n",
       "      <td>(DeviceNumber: 'ND46807143$P5335190', DeviceTy...</td>\n",
       "      <td>10</td>\n",
       "      <td>ND46807143$P5335190</td>\n",
       "      <td>Underground type.</td>\n",
       "      <td>0.879</td>\n",
       "      <td>1.203</td>\n",
       "      <td>0.962</td>\n",
       "      <td>1.014667</td>\n",
       "      <td>18.561104</td>\n",
       "    </tr>\n",
       "    <tr>\n",
       "      <th>482</th>\n",
       "      <td>(DeviceNumber: 'ND99139941$OS2959-4', DeviceTy...</td>\n",
       "      <td>10</td>\n",
       "      <td>ND99139941$OS2959-4</td>\n",
       "      <td>Underground type.</td>\n",
       "      <td>0.879</td>\n",
       "      <td>1.203</td>\n",
       "      <td>0.962</td>\n",
       "      <td>1.014667</td>\n",
       "      <td>18.561104</td>\n",
       "    </tr>\n",
       "    <tr>\n",
       "      <th>724</th>\n",
       "      <td>(DeviceNumber: 'P5335190', DeviceType: 14)</td>\n",
       "      <td>14</td>\n",
       "      <td>P5335190</td>\n",
       "      <td>Spot Load type.</td>\n",
       "      <td>0.879</td>\n",
       "      <td>1.203</td>\n",
       "      <td>0.962</td>\n",
       "      <td>1.014667</td>\n",
       "      <td>18.561104</td>\n",
       "    </tr>\n",
       "    <tr>\n",
       "      <th>351</th>\n",
       "      <td>(DeviceNumber: 'ND99139941$ND46806418', Device...</td>\n",
       "      <td>10</td>\n",
       "      <td>ND99139941$ND46806418</td>\n",
       "      <td>Underground type.</td>\n",
       "      <td>0.879</td>\n",
       "      <td>1.203</td>\n",
       "      <td>0.962</td>\n",
       "      <td>1.014667</td>\n",
       "      <td>18.561104</td>\n",
       "    </tr>\n",
       "    <tr>\n",
       "      <th>450</th>\n",
       "      <td>(DeviceNumber: 'ND46806418$ND46807143', Device...</td>\n",
       "      <td>10</td>\n",
       "      <td>ND46806418$ND46807143</td>\n",
       "      <td>Underground type.</td>\n",
       "      <td>0.879</td>\n",
       "      <td>1.203</td>\n",
       "      <td>0.962</td>\n",
       "      <td>1.014667</td>\n",
       "      <td>18.561104</td>\n",
       "    </tr>\n",
       "    <tr>\n",
       "      <th>40</th>\n",
       "      <td>(DeviceNumber: 'BS1387-1_14036_1$BS1387-1_1403...</td>\n",
       "      <td>6</td>\n",
       "      <td>BS1387-1_14036_1$BS1387-1_1403-1</td>\n",
       "      <td>Switch type.</td>\n",
       "      <td>0.879</td>\n",
       "      <td>1.203</td>\n",
       "      <td>0.962</td>\n",
       "      <td>1.014667</td>\n",
       "      <td>18.561104</td>\n",
       "    </tr>\n",
       "    <tr>\n",
       "      <th>310</th>\n",
       "      <td>(DeviceNumber: 'ND46806418$BS1387-1', DeviceTy...</td>\n",
       "      <td>10</td>\n",
       "      <td>ND46806418$BS1387-1</td>\n",
       "      <td>Underground type.</td>\n",
       "      <td>0.879</td>\n",
       "      <td>1.203</td>\n",
       "      <td>0.962</td>\n",
       "      <td>1.014667</td>\n",
       "      <td>18.561104</td>\n",
       "    </tr>\n",
       "    <tr>\n",
       "      <th>136</th>\n",
       "      <td>(DeviceNumber: 'P5334758-1', DeviceType: 6)</td>\n",
       "      <td>6</td>\n",
       "      <td>P5334758-1</td>\n",
       "      <td>Switch type.</td>\n",
       "      <td>0.880</td>\n",
       "      <td>1.197</td>\n",
       "      <td>0.973</td>\n",
       "      <td>1.016667</td>\n",
       "      <td>17.737705</td>\n",
       "    </tr>\n",
       "    <tr>\n",
       "      <th>141</th>\n",
       "      <td>(DeviceNumber: 'OS2959-2_14036$OS2959-2_14036_...</td>\n",
       "      <td>6</td>\n",
       "      <td>OS2959-2_14036$OS2959-2_14036_-1</td>\n",
       "      <td>Switch type.</td>\n",
       "      <td>0.880</td>\n",
       "      <td>1.197</td>\n",
       "      <td>0.973</td>\n",
       "      <td>1.016667</td>\n",
       "      <td>17.737705</td>\n",
       "    </tr>\n",
       "  </tbody>\n",
       "</table>\n",
       "</div>"
      ],
      "text/plain": [
       "                                                device  device_type_id  \\\n",
       "477  (DeviceNumber: 'P5335190$PME3759-2', DeviceTyp...              10   \n",
       "615  (DeviceNumber: 'ND46807143$P5335190', DeviceTy...              10   \n",
       "482  (DeviceNumber: 'ND99139941$OS2959-4', DeviceTy...              10   \n",
       "724         (DeviceNumber: 'P5335190', DeviceType: 14)              14   \n",
       "351  (DeviceNumber: 'ND99139941$ND46806418', Device...              10   \n",
       "450  (DeviceNumber: 'ND46806418$ND46807143', Device...              10   \n",
       "40   (DeviceNumber: 'BS1387-1_14036_1$BS1387-1_1403...               6   \n",
       "310  (DeviceNumber: 'ND46806418$BS1387-1', DeviceTy...              10   \n",
       "136        (DeviceNumber: 'P5334758-1', DeviceType: 6)               6   \n",
       "141  (DeviceNumber: 'OS2959-2_14036$OS2959-2_14036_...               6   \n",
       "\n",
       "                        device_number        device_type  voltage_A  \\\n",
       "477                P5335190$PME3759-2  Underground type.      0.879   \n",
       "615               ND46807143$P5335190  Underground type.      0.879   \n",
       "482               ND99139941$OS2959-4  Underground type.      0.879   \n",
       "724                          P5335190    Spot Load type.      0.879   \n",
       "351             ND99139941$ND46806418  Underground type.      0.879   \n",
       "450             ND46806418$ND46807143  Underground type.      0.879   \n",
       "40   BS1387-1_14036_1$BS1387-1_1403-1       Switch type.      0.879   \n",
       "310               ND46806418$BS1387-1  Underground type.      0.879   \n",
       "136                        P5334758-1       Switch type.      0.880   \n",
       "141  OS2959-2_14036$OS2959-2_14036_-1       Switch type.      0.880   \n",
       "\n",
       "     voltage_B  voltage_C  mean_voltage_ABC  diff_with_mean  \n",
       "477      1.203      0.962          1.014667       18.561104  \n",
       "615      1.203      0.962          1.014667       18.561104  \n",
       "482      1.203      0.962          1.014667       18.561104  \n",
       "724      1.203      0.962          1.014667       18.561104  \n",
       "351      1.203      0.962          1.014667       18.561104  \n",
       "450      1.203      0.962          1.014667       18.561104  \n",
       "40       1.203      0.962          1.014667       18.561104  \n",
       "310      1.203      0.962          1.014667       18.561104  \n",
       "136      1.197      0.973          1.016667       17.737705  \n",
       "141      1.197      0.973          1.016667       17.737705  "
      ]
     },
     "execution_count": 3,
     "metadata": {},
     "output_type": "execute_result"
    }
   ],
   "source": [
    "unbalanced"
   ]
  },
  {
   "cell_type": "code",
   "execution_count": null,
   "metadata": {
    "collapsed": true
   },
   "outputs": [],
   "source": []
  },
  {
   "cell_type": "code",
   "execution_count": null,
   "metadata": {
    "collapsed": true
   },
   "outputs": [],
   "source": []
  },
  {
   "cell_type": "code",
   "execution_count": null,
   "metadata": {
    "collapsed": true
   },
   "outputs": [],
   "source": []
  },
  {
   "cell_type": "code",
   "execution_count": null,
   "metadata": {
    "collapsed": true
   },
   "outputs": [],
   "source": [
    "ab_high = cympy.study.ListAbnormalConditions(cympy.enums.AbnormalConditionType.HighVoltage)\n",
    "ab_low = cympy.study.ListAbnormalConditions(cympy.enums.AbnormalConditionType.LowVoltage)"
   ]
  },
  {
   "cell_type": "code",
   "execution_count": null,
   "metadata": {
    "collapsed": false
   },
   "outputs": [],
   "source": [
    "ab_low[0]"
   ]
  },
  {
   "cell_type": "code",
   "execution_count": null,
   "metadata": {
    "collapsed": false
   },
   "outputs": [],
   "source": [
    "devices = function.list_devices()"
   ]
  },
  {
   "cell_type": "code",
   "execution_count": null,
   "metadata": {
    "collapsed": false
   },
   "outputs": [],
   "source": [
    "# temp = devices[devices.device_number == 'PME3147-2$PMH3148-1'].device.tolist()\n",
    "temp = devices[devices.device_type == 'Switch type.'].device.tolist()"
   ]
  },
  {
   "cell_type": "code",
   "execution_count": null,
   "metadata": {
    "collapsed": false
   },
   "outputs": [],
   "source": [
    "function._describe_object(temp[0])"
   ]
  },
  {
   "cell_type": "code",
   "execution_count": null,
   "metadata": {
    "collapsed": false
   },
   "outputs": [],
   "source": [
    "# temp[0].GetValue('EarthResistivity')\n",
    "cympy.study.QueryInfoDevice(\"KVAA\", temp[10].DeviceNumber, temp[10].DeviceType)"
   ]
  },
  {
   "cell_type": "code",
   "execution_count": null,
   "metadata": {
    "collapsed": true
   },
   "outputs": [],
   "source": []
  },
  {
   "cell_type": "code",
   "execution_count": null,
   "metadata": {
    "collapsed": true
   },
   "outputs": [],
   "source": []
  },
  {
   "cell_type": "code",
   "execution_count": null,
   "metadata": {
    "collapsed": true
   },
   "outputs": [],
   "source": []
  },
  {
   "cell_type": "code",
   "execution_count": null,
   "metadata": {
    "collapsed": true
   },
   "outputs": [],
   "source": []
  },
  {
   "cell_type": "code",
   "execution_count": null,
   "metadata": {
    "collapsed": true
   },
   "outputs": [],
   "source": []
  },
  {
   "cell_type": "code",
   "execution_count": null,
   "metadata": {
    "collapsed": true
   },
   "outputs": [],
   "source": []
  },
  {
   "cell_type": "code",
   "execution_count": null,
   "metadata": {
    "collapsed": true
   },
   "outputs": [],
   "source": []
  },
  {
   "cell_type": "code",
   "execution_count": null,
   "metadata": {
    "collapsed": true
   },
   "outputs": [],
   "source": []
  },
  {
   "cell_type": "code",
   "execution_count": null,
   "metadata": {
    "collapsed": true
   },
   "outputs": [],
   "source": []
  },
  {
   "cell_type": "code",
   "execution_count": null,
   "metadata": {
    "collapsed": true
   },
   "outputs": [],
   "source": [
    "nodes = cympy.study.ListNodes()"
   ]
  },
  {
   "cell_type": "code",
   "execution_count": null,
   "metadata": {
    "collapsed": false
   },
   "outputs": [],
   "source": [
    "for value in cympy.dm.Describe(nodes[0].GetObjType()):\n",
    "    print(value.Name)"
   ]
  },
  {
   "cell_type": "code",
   "execution_count": null,
   "metadata": {
    "collapsed": false
   },
   "outputs": [],
   "source": [
    "nodes[0].GetValue(\"Connectors\")"
   ]
  },
  {
   "cell_type": "code",
   "execution_count": null,
   "metadata": {
    "collapsed": false
   },
   "outputs": [],
   "source": [
    "devices = function.list_devices()\n",
    "devices"
   ]
  },
  {
   "cell_type": "code",
   "execution_count": null,
   "metadata": {
    "collapsed": true
   },
   "outputs": [],
   "source": [
    "a = devices[devices.device_type == 'Underground type.']\n",
    "de = function.get_device(a.ix[310].device_number, a.ix[310].device.DeviceType)\n",
    "for value in cympy.dm.Describe(de.GetObjType()):\n",
    "    print(value.Name)"
   ]
  },
  {
   "cell_type": "code",
   "execution_count": null,
   "metadata": {
    "collapsed": true
   },
   "outputs": [],
   "source": [
    "a"
   ]
  },
  {
   "cell_type": "code",
   "execution_count": null,
   "metadata": {
    "collapsed": true
   },
   "outputs": [],
   "source": [
    "function.get_device(devices.ix[0].device_number, devices.ix[0].device.DeviceType)"
   ]
  },
  {
   "cell_type": "code",
   "execution_count": null,
   "metadata": {
    "collapsed": true
   },
   "outputs": [],
   "source": [
    "networks = cympy.study.ListNetworks()"
   ]
  },
  {
   "cell_type": "code",
   "execution_count": null,
   "metadata": {
    "collapsed": false
   },
   "outputs": [],
   "source": [
    "networks"
   ]
  },
  {
   "cell_type": "code",
   "execution_count": null,
   "metadata": {
    "collapsed": false
   },
   "outputs": [],
   "source": [
    "devices[devices.device_type == 'Shunt Capacitor type.']"
   ]
  },
  {
   "cell_type": "code",
   "execution_count": null,
   "metadata": {
    "collapsed": false
   },
   "outputs": [],
   "source": [
    "function._describe_object(devices.ix[749].device)"
   ]
  },
  {
   "cell_type": "code",
   "execution_count": null,
   "metadata": {
    "collapsed": false
   },
   "outputs": [],
   "source": [
    "devices.ix[749].device.CapacitorControl\n",
    "# Question is how to set CapacitorControl to something different like VoltageControlled\n",
    "# In network properties / Equivalent there is a field for source equivalent voltage\n",
    "# How do I change the properties for phases A, B and C Where do I find the equivalent"
   ]
  },
  {
   "cell_type": "code",
   "execution_count": null,
   "metadata": {
    "collapsed": false
   },
   "outputs": [],
   "source": [
    "\n",
    "cympy.enums.ControlType.VoltageControlled"
   ]
  }
 ],
 "metadata": {
  "anaconda-cloud": {},
  "kernelspec": {
   "display_name": "Python 3",
   "language": "python",
   "name": "python3"
  },
  "language_info": {
   "codemirror_mode": {
    "name": "ipython",
    "version": 3
   },
   "file_extension": ".py",
   "mimetype": "text/x-python",
   "name": "python",
   "nbconvert_exporter": "python",
   "pygments_lexer": "ipython3",
   "version": "3.4.4"
  }
 },
 "nbformat": 4,
 "nbformat_minor": 1
}
