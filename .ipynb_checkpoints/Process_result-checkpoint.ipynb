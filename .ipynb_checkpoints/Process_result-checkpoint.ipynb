{
 "cells": [
  {
   "cell_type": "code",
   "execution_count": 9,
   "metadata": {
    "collapsed": false
   },
   "outputs": [],
   "source": [
    "import pandas\n",
    "import cPickle as pickle\n",
    "import datetime\n",
    "\n",
    "# Imports useful for graphics\n",
    "import matplotlib.pyplot as plt\n",
    "import seaborn\n",
    "seaborn.set_style(\"whitegrid\")\n",
    "seaborn.despine()\n",
    "%matplotlib inline\n",
    "%config InlineBackend.figure_formats = {'svg',}"
   ]
  },
  {
   "cell_type": "code",
   "execution_count": 10,
   "metadata": {
    "collapsed": false
   },
   "outputs": [],
   "source": [
    "filename = 'result.pickle'\n",
    "with open(filename, 'rb') as fp:\n",
    "    result = pickle.load(fp)\n",
    "\n",
    "# Input data\n",
    "datetimes = [datetime.datetime(2016, 8, 25, i, 0, 0) for i in range(0, 24)]"
   ]
  },
  {
   "cell_type": "code",
   "execution_count": 12,
   "metadata": {
    "collapsed": false
   },
   "outputs": [
    {
     "data": {
      "text/plain": [
       "1.0389999999999999"
      ]
     },
     "execution_count": 12,
     "metadata": {},
     "output_type": "execute_result"
    }
   ],
   "source": [
    "# Result holder for different categories\n",
    "post_result = pandas.DataFrame(index=datetimes, columns=['high_voltage_A', 'high_voltage_B', 'high_voltage_C',\n",
    "                                                          'low_voltage_A', 'low_voltage_B', 'low_voltage_C',\n",
    "                                                          'overload_A', 'overload_B', 'overload_C', 'unbalanced'])\n",
    "\n",
    "for index, date in enumerate(datetimes):\n",
    "    # Get highest voltage on the network at each datetime\n",
    "    post_result.loc[date, 'high_voltage_A'] = result[index].sort_values(\n",
    "        'voltage_A', ascending=False).head(1)['voltage_A'].values[0]\n",
    "    post_result.loc[date, 'high_voltage_B'] = result[index].sort_values(\n",
    "        'voltage_B', ascending=False).head(1)['voltage_B'].values[0]\n",
    "    post_result.loc[date, 'high_voltage_C'] = result[index].sort_values(\n",
    "        'voltage_C', ascending=False).head(1)['voltage_C'].values[0]\n",
    "    \n",
    "    # Get lowest voltage on the network at each datetime, do not consider 0\n",
    "    temp = 0\n",
    "    while temp == 0:\n",
    "        post_result.loc[date, 'low_voltage_A'] = result[index].sort_values(\n",
    "            'voltage_A', ascending=True).head(1)['voltage_A'].values[0]\n",
    "    post_result.loc[date, 'low_voltage_A'] = temp\n",
    "    \n",
    "    post_result.loc[date, 'low_voltage_B'] = result[index].sort_values(\n",
    "        'voltage_B', ascending=True).head(1)['voltage_B'].values[0]\n",
    "    post_result.loc[date, 'low_voltage_C'] = result[index].sort_values(\n",
    "        'voltage_C', ascending=True).head(1)['voltage_C'].values[0]\n",
    "    \n",
    "    # Get highest overload on the network at each datetime\n",
    "    post_result.loc[date, 'low_voltage_A'] = result[index].sort_values(\n",
    "        'voltage_A', ascending=True).head(1)['voltage_A'].values[0]\n",
    "    post_result.loc[date, 'low_voltage_B'] = result[index].sort_values(\n",
    "        'voltage_B', ascending=True).head(1)['voltage_B'].values[0]\n",
    "    post_result.loc[date, 'low_voltage_C'] = result[index].sort_values(\n",
    "        'voltage_C', ascending=True).head(1)['voltage_C'].values[0]"
   ]
  }
 ],
 "metadata": {
  "anaconda-cloud": {},
  "kernelspec": {
   "display_name": "Python [Root]",
   "language": "python",
   "name": "Python [Root]"
  },
  "language_info": {
   "codemirror_mode": {
    "name": "ipython",
    "version": 2
   },
   "file_extension": ".py",
   "mimetype": "text/x-python",
   "name": "python",
   "nbconvert_exporter": "python",
   "pygments_lexer": "ipython2",
   "version": "2.7.12"
  }
 },
 "nbformat": 4,
 "nbformat_minor": 0
}
