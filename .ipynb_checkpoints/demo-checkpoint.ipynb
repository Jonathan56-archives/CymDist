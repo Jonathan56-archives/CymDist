{
 "cells": [
  {
   "cell_type": "code",
   "execution_count": 1,
   "metadata": {
    "collapsed": false
   },
   "outputs": [],
   "source": [
    "from __future__ import division\n",
    "import cympy\n",
    "import cympy.rm\n",
    "import pandas\n",
    "import sys\n",
    "sys.path.append(\"D:\\\\Users\\\\Jonathan\\\\Documents\\\\GitHub\\\\cymdist\")\n",
    "import function\n",
    "import lookup\n",
    "from datetime import datetime\n",
    "from pytz import timezone\n",
    "pacific = timezone('US/Pacific')"
   ]
  },
  {
   "cell_type": "code",
   "execution_count": 2,
   "metadata": {
    "collapsed": false
   },
   "outputs": [],
   "source": [
    "# FMU initialize\n",
    "# Shunt capacitor control\n",
    "voltage_control = False\n",
    "\n",
    "# Adding PV on the network\n",
    "added_PV = False \n",
    "\n",
    "# Open a study\n",
    "filename = 'C:\\\\Users\\\\emma\\\\Documents\\\\SCE Cymdist\\\\PIANO_20140718.sxst'\n",
    "cympy.study.Open(filename)\n",
    "\n",
    "# Set the grid model with the modification\n",
    "if voltage_control:\n",
    "    pass\n",
    "\n",
    "if added_PV:\n",
    "    my_pv = function.add_pv(\"New_PV\", \"BS2102-L_14036$P5080048-1_14036\")\n",
    "\n",
    "# FMU do step\n",
    "# Retrieve microPMU data at t\n",
    "inputdt = pacific.localize(datetime(2016, 8, 25, 19, 0, 0))\n",
    "upmu_path = '/LBNL/grizzly_bus1/'\n",
    "udata = get_upmu_data(inputdt, upmu_path)\n",
    "\n",
    "udata = {'VMAG_A': 7287.4208984375,\n",
    "         'VMAG_B': 7299.921875,\n",
    "         'VMAG_C': 7318.2822265625,\n",
    "         'P_A': 7272.5364248477308,\n",
    "         'P_B': 2118.3817519608633,\n",
    "         'P_C': 6719.1867010705246,\n",
    "         'Q_A': -284.19075651498088,\n",
    "         'Q_B': -7184.1189935099919,\n",
    "         'Q_C': 3564.4269660296022,\n",
    "         'units': ('kW', 'kVAR', 'V')}\n",
    "\n",
    "# Set the downstream load and voltage and launch load allocation\n",
    "function.load_allocation(udata)\n",
    "\n",
    "# Run a power flow\n",
    "lf = cympy.sim.LoadFlow()\n",
    "lf.Run()\n",
    "\n",
    "# Get the results\n",
    "high_voltage = function.get_high_voltage(devices)\n",
    "low_voltage = function.get_low_voltage(devices)\n",
    "overload = function.get_overload(devices)\n",
    "unbalanced = function.get_unbalanced_line(devices)"
   ]
  }
 ],
 "metadata": {
  "kernelspec": {
   "display_name": "Python 3",
   "language": "python",
   "name": "python3"
  },
  "language_info": {
   "codemirror_mode": {
    "name": "ipython",
    "version": 3
   },
   "file_extension": ".py",
   "mimetype": "text/x-python",
   "name": "python",
   "nbconvert_exporter": "python",
   "pygments_lexer": "ipython3",
   "version": "3.4.4"
  }
 },
 "nbformat": 4,
 "nbformat_minor": 1
}
