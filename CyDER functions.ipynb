{
 "cells": [
  {
   "cell_type": "markdown",
   "metadata": {},
   "source": [
    "Author: Anna Liao, alliao@lbl.gov, August 2016"
   ]
  },
  {
   "cell_type": "markdown",
   "metadata": {},
   "source": [
    "External dependencies.  Clone to local directory:\n",
    "\n",
    "https://github.com/SoftwareDefinedBuildings/pybtrdb\n",
    "\n",
    "https://github.com/SoftwareDefinedBuildings/uPMU-tools (only needed for get_peakc_dt())\n",
    "In uPMU-tools, I modify btrdbwrapper.py and btrsearch.py to refer to a cloned repo as follows:\n",
    "from pybtrdb import btrdb\n",
    "In the code below, I refer to my modified module as btrdbutil2.\n",
    "This is because 'pip install btrdb' wasn't working properly in my environment.\n",
    "\n",
    "btrdb_capnp.py (only needed for get_peakc_dt())"
   ]
  },
  {
   "cell_type": "markdown",
   "metadata": {},
   "source": [
    "# get_upmu_data(): Returns instantaneous P, Q, and voltage magnitude for specified datetime."
   ]
  },
  {
   "cell_type": "code",
   "execution_count": 36,
   "metadata": {
    "collapsed": false
   },
   "outputs": [],
   "source": [
    "import sys\n",
    "sys.path.append('/data/home/aliao/repos/')\n",
    "from pybtrdb import btrdb\n",
    "# https://github.com/SoftwareDefinedBuildings/pybtrdb\n",
    "import numpy as np\n",
    "from datetime import datetime\n",
    "from pytz import timezone\n",
    "pacific = timezone('US/Pacific')\n",
    "\n",
    "def get_upmu_data(inputdt, upmu_path):\n",
    "    \"\"\" Retrieves instantaneous P, Q, and voltage magnitude for specified datetime.\n",
    "    \n",
    "    Args:\n",
    "        inputdt (datetime): timezone aware datetime object\n",
    "        upmu_path (str): e.g., '/LBNL/grizzly_bus1/'\n",
    "    Returns:\n",
    "        {'P1': , 'Q1': , 'P2': , 'Q2': , 'P3': , 'Q3': , \n",
    "         'value_units': ('kW', 'kVAR'), \n",
    "         'L1MAG': , 'L2MAG': , 'L3MAG': }\n",
    "    \"\"\"\n",
    "    \n",
    "    bc = btrdb.HTTPConnection(\"miranda.cs.berkeley.edu\")\n",
    "    ur = btrdb.UUIDResolver(\"miranda.cs.berkeley.edu\", \"uuidresolver\", \"uuidpass\", \"upmu\")\n",
    "    \n",
    "    # convert dt to nanoseconds since epoch\n",
    "    epochns = btrdb.date(inputdt.strftime('%Y-%m-%dT%H:%M:%S'))\n",
    "    \n",
    "    # retrieve raw data from btrdb\n",
    "    upmu_data = {}\n",
    "    streams = ['L1MAG', 'L2MAG', 'L3MAG', 'C1MAG', 'C2MAG', 'C3MAG', 'L1ANG', 'L2ANG', 'L3ANG', 'C1ANG', 'C2ANG', 'C3ANG']\n",
    "    for s in streams:\n",
    "        pt = bc.get_stat(ur.resolve(upmu_path+s), epochns, epochns + int(9e6))\n",
    "        upmu_data[s] = pt[0][2]\n",
    "        \n",
    "    output_dict = {}\n",
    "\n",
    "    output_dict['P1'] = (upmu_data['L1MAG']*upmu_data['C1MAG']*np.cos(upmu_data['L1ANG'] - upmu_data['C1ANG']))*1e-3\n",
    "    output_dict['Q1'] = (upmu_data['L1MAG']*upmu_data['C1MAG']*np.sin(upmu_data['L1ANG'] - upmu_data['C1ANG']))*1e-3\n",
    "\n",
    "    output_dict['P2'] = (upmu_data['L2MAG']*upmu_data['C2MAG']*np.cos(upmu_data['L2ANG'] - upmu_data['C2ANG']))*1e-3\n",
    "    output_dict['Q2'] = (upmu_data['L2MAG']*upmu_data['C2MAG']*np.sin(upmu_data['L2ANG'] - upmu_data['C2ANG']))*1e-3\n",
    "\n",
    "    output_dict['P3'] = (upmu_data['L3MAG']*upmu_data['C3MAG']*np.cos(upmu_data['L3ANG'] - upmu_data['C3ANG']))*1e-3\n",
    "    output_dict['Q3'] = (upmu_data['L3MAG']*upmu_data['C3MAG']*np.sin(upmu_data['L3ANG'] - upmu_data['C3ANG']))*1e-3\n",
    "\n",
    "    output_dict['value_units'] = ('kW', 'kVAR')\n",
    "\n",
    "    output_dict['L1MAG'] = upmu_data['L1MAG']\n",
    "    output_dict['L2MAG'] = upmu_data['L2MAG']\n",
    "    output_dict['L3MAG'] = upmu_data['L3MAG']\n",
    "    return output_dict"
   ]
  },
  {
   "cell_type": "markdown",
   "metadata": {},
   "source": [
    "# get_upmu_data(): example usage"
   ]
  },
  {
   "cell_type": "code",
   "execution_count": 33,
   "metadata": {
    "collapsed": false
   },
   "outputs": [
    {
     "name": "stdout",
     "output_type": "stream",
     "text": [
      "{'L1MAG': 7287.4208984375,\n",
      " 'L2MAG': 7299.921875,\n",
      " 'L3MAG': 7318.2822265625,\n",
      " 'P1': 7272.5364248477308,\n",
      " 'P2': 2118.3817519608633,\n",
      " 'P3': 6719.1867010705246,\n",
      " 'Q1': -284.19075651498088,\n",
      " 'Q2': -7184.1189935099919,\n",
      " 'Q3': 3564.4269660296022,\n",
      " 'value_units': ('kW', 'kVAR')}\n"
     ]
    }
   ],
   "source": [
    "import pprint\n",
    "pp = pprint.PrettyPrinter()\n",
    "\n",
    "inputdt = pacific.localize(datetime(2016, 8, 25, 19, 0, 0))\n",
    "upmu_path = '/LBNL/grizzly_bus1/'\n",
    "\n",
    "pp.pprint(get_upmu_data(inputdt, upmu_path))"
   ]
  },
  {
   "cell_type": "markdown",
   "metadata": {},
   "source": [
    "# get_peakc_dt(): datetime of peak current in specified time range"
   ]
  },
  {
   "cell_type": "code",
   "execution_count": 37,
   "metadata": {
    "collapsed": false
   },
   "outputs": [],
   "source": [
    "import sys\n",
    "sys.path.append('/data/home/aliao/repos/')\n",
    "sys.path.append('/data/home/aliao/repos/btrdb-python')\n",
    "sys.path.append('/data/home/aliao/repos/uPMU-tools')\n",
    "# https://github.com/SoftwareDefinedBuildings/uPMU-tools\n",
    "\n",
    "from btrdbutil2.btrdbwrapper import *\n",
    "from btrdbutil2.btrsearch import *\n",
    "\n",
    "import btrdb_capnp\n",
    "from pybtrdb import btrdb\n",
    "# https://github.com/SoftwareDefinedBuildings/btrdb\n",
    "from uuid import UUID\n",
    "import numpy as np\n",
    "from datetime import datetime\n",
    "from pytz import timezone\n",
    "pacific = timezone('US/Pacific')\n",
    "\n",
    "capnp_path = '/data/home/aliao/repos/btrdb/cpinterface/interface.capnp'\n",
    "# capnp_path needs to be replaced with local path to file\n",
    "bc = btrdb_capnp.BTrDBConnection(\"miranda.cs.berkeley.edu\", 4410, capnp_path)\n",
    "ur = btrdb.UUIDResolver(\"miranda.cs.berkeley.edu\", \"uuidresolver\", \"uuidpass\", \"upmu\")\n",
    "\n",
    "def btrdb_window(uu, start_ns, dur, seg_length):\n",
    "    \"\"\" returns btrdb stat in specified time range with given resolution.\n",
    "    \n",
    "    Args:\n",
    "        uu (str): btrdb uuid of upmu\n",
    "        start_ns (int): in UTC, i.e., 1446328800000000000\n",
    "        dur (int): in nanoseconds, i.e., int(15*60*1e9)\n",
    "        seg_length (int): length of each data point, in nanoseconds\n",
    "    Returns:\n",
    "        \n",
    "    \"\"\"\n",
    "    end_ns = start_ns + dur\n",
    "    return bc.queryWindowValues(uu, start_ns, end_ns, seg_length)\n",
    "\n",
    "def get_peakc_dt(startdt, enddt, upmuc_path):\n",
    "    \"\"\" Returns datetime of peak current in range\n",
    "    \n",
    "    Args:\n",
    "        startdt (datetime)\n",
    "        enddt (datetime)\n",
    "        upmu_path (str): specify path of current magnitude stream, e.g., '/LBNL/grizzly_bus1/C1MAG'\n",
    "    \"\"\"\n",
    "    \n",
    "    startstr = startdt.strftime('%Y-%m-%dT%H:%M:%S')\n",
    "    endstr = enddt.strftime('%Y-%m-%dT%H:%M:%S')\n",
    "    \n",
    "    startns = btrdb.date(startstr)\n",
    "    endns = btrdb.date(endstr)\n",
    "    dur = endns - startns\n",
    "    uu = UUID(ur.resolve(upmuc_path))\n",
    "    \n",
    "    C_day_stat = btrdb_window(uu, startns, dur, dur)\n",
    "    C_day_max = C_day_stat[0][0]['max']\n",
    "    \n",
    "    btrdb_wrapper = BTrDBWrapper()\n",
    "    searchTree = BTrSearch(btrdb_wrapper, upmuc_path)\n",
    "    visitor = MaxComparator()\n",
    "    searchTree.accept(visitor)\n",
    "    # input to multi_resolution_search in UTC\n",
    "    start_ts, pw = searchTree.multi_resolution_search(startstr, endstr, 'ylabel', \n",
    "                                                      threshold=0.999*C_day_max)\n",
    "    # print localtime from start_ts\n",
    "    # time.strftime('%Y-%m-%d %H:%M:%S', time.localtime(start_ts[0]*1e-9))\n",
    "    \n",
    "    return datetime.fromtimestamp(start_ts[0]*1e-9)"
   ]
  },
  {
   "cell_type": "markdown",
   "metadata": {},
   "source": [
    "# get_peakc_dt(): example usage"
   ]
  },
  {
   "cell_type": "code",
   "execution_count": 39,
   "metadata": {
    "collapsed": false
   },
   "outputs": [
    {
     "name": "stdout",
     "output_type": "stream",
     "text": [
      "2016-08-25 16:46:27.762479\n",
      "{'L1MAG': 7301.4794921875,\n",
      " 'L2MAG': 7309.59375,\n",
      " 'L3MAG': 7329.84033203125,\n",
      " 'P1': 6221.891885358129,\n",
      " 'P2': 4880.8751030883795,\n",
      " 'P3': 3802.0190323260827,\n",
      " 'Q1': 3061.4652372511678,\n",
      " 'Q2': -5206.8206898532153,\n",
      " 'Q3': 6173.1913826077871,\n",
      " 'value_units': ('kW', 'kVAR')}\n"
     ]
    }
   ],
   "source": [
    "startdt = pacific.localize(datetime(2016, 8, 25, 19, 0, 0))\n",
    "enddt = pacific.localize(datetime(2016, 8, 28, 10, 0, 0))\n",
    "upmuc_path = '/LBNL/grizzly_bus1/C1MAG'\n",
    "\n",
    "peakc_dt = get_peakc_dt(startdt, enddt, upmuc_path)\n",
    "print peakc_dt\n",
    "pp.pprint(get_upmu_data(peakc_dt, '/LBNL/grizzly_bus1/'))"
   ]
  }
 ],
 "metadata": {
  "kernelspec": {
   "display_name": "Python 3",
   "language": "python",
   "name": "python3"
  },
  "language_info": {
   "codemirror_mode": {
    "name": "ipython",
    "version": 3
   },
   "file_extension": ".py",
   "mimetype": "text/x-python",
   "name": "python",
   "nbconvert_exporter": "python",
   "pygments_lexer": "ipython3",
   "version": "3.4.4"
  }
 },
 "nbformat": 4,
 "nbformat_minor": 0
}
